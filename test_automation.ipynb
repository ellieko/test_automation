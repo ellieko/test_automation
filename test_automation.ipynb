{
 "cells": [
  {
   "cell_type": "markdown",
   "metadata": {},
   "source": [
    "## 1. Meet Requirements for using Scaling Test Automation\n",
    "\n",
    "#### 1. Install Python, Selenium, and Chrome\n",
    "- Ensure Python 3.8 or later is installed\n",
    "- Ensure pip, Python's package installer, is installed (https://pip.pypa.io/en/stable/installation/)\n",
    "- Install Selenium: In terminal, \"pip install selenium\" (https://pypi.org/project/selenium/)\n",
    "- Download and install the appropriate version of Google Chrome from the official page, https://www.google.com/chrome/\n",
    "\n",
    "If these worked fine, you should see the installed Python's version and \"Requirement already satisfied\" from the below code block.\n",
    "\n",
    "#### 2. Download and Configure Chrome Web Driver\n",
    "- MacOS users who have installed \"brew\", simply run \"brew install chromedriver\" in terminal.\n",
    "- Others:\n",
    "  - Check your Chrome version by typing \"chrome://version\" in your chrome browser\n",
    "  - Download the corresponding version of chrome web driver from the Chrome Driver download page, https://chromedriver.chromium.org/downloads\n",
    "  - Place chromedriver.exe (for Windows users) or chromedriver (for Mac or Linux users) in a directory included in your system's PATH"
   ]
  },
  {
   "cell_type": "code",
   "execution_count": null,
   "metadata": {},
   "outputs": [],
   "source": [
    "# Install Selenium and its dependencies if not already installed\n",
    "!python --version\n",
    "!pip install selenium"
   ]
  },
  {
   "cell_type": "markdown",
   "metadata": {},
   "source": [
    "## 2. Run Test Automation to Find a Fake Bar\n",
    "\n",
    "Run the code block below to initiate test automation. This will launch a Chrome browser and conduct weighings of gold bars until a fake one is detected."
   ]
  },
  {
   "cell_type": "code",
   "execution_count": 39,
   "metadata": {},
   "outputs": [
    {
     "name": "stdout",
     "output_type": "stream",
     "text": [
      "0th weighing: 8 = 7\n",
      "1th weighing: 6 = 5\n",
      "2th weighing: 4 = 3\n",
      "3th weighing: 2 > 1\n",
      "Fake bar should be 1.\n",
      "Yay! You find it!\n",
      "We Found the fake bar within 4 times of weighings.\n"
     ]
    }
   ],
   "source": [
    "from selenium import webdriver\n",
    "from selenium.webdriver.common.by import By\n",
    "from selenium.webdriver.common.alert import Alert\n",
    "import time\n",
    "\n",
    "# Initialize the WebDriver\n",
    "driver = webdriver.Chrome()\n",
    "\n",
    "# Navigate to a website\n",
    "driver.get(\"http://sdetchallenge.fetch.com/\")\n",
    "\n",
    "# Function to click the chosen fake bar\n",
    "def clickFakeBar(driver, a):\n",
    "    print(f\"Fake bar should be {a}.\")\n",
    "    button = driver.find_element(By.ID, f\"coin_{a}\")\n",
    "    button.click()\n",
    "    print(Alert(driver).text)\n",
    "\n",
    "stack = list(range(9))\n",
    "weighings = []\n",
    "while stack:\n",
    "    \n",
    "    if len(stack) == 1:\n",
    "        clickFakeBar(driver, stack.pop())\n",
    "        break\n",
    "\n",
    "    # Put two bars on each side\n",
    "    a, b = stack.pop(), stack.pop()\n",
    "    input_field = driver.find_element(By.ID, \"left_0\")\n",
    "    input_field.send_keys(a)\n",
    "    input_field = driver.find_element(By.ID, \"right_0\")\n",
    "    input_field.send_keys(b)\n",
    "\n",
    "    # Weigh the scaling\n",
    "    weigh_button = driver.find_element(By.ID, \"weigh\")\n",
    "    weigh_button.click()\n",
    "    time.sleep(3)\n",
    "\n",
    "    # Append the weighing result and check if there is a fake bar\n",
    "    weighing_result = driver.find_elements(By.ID, \"reset\")[0].text\n",
    "    weighings.append(f\"{len(weighings)}th weighing: {a} {weighing_result} {b}\")\n",
    "    print(weighings[-1])\n",
    "\n",
    "    if weighing_result == \"<\":\n",
    "        clickFakeBar(driver, a)\n",
    "        break\n",
    "    elif weighing_result == \">\":\n",
    "        clickFakeBar(driver, b)\n",
    "        break\n",
    "    else:\n",
    "        # Reset the scaling\n",
    "        reset_element = driver.find_elements(By.ID, \"reset\")[1]\n",
    "        reset_element.click()\n",
    "\n",
    "print(f\"We Found the fake bar within {len(weighings)} times of weighings.\")\n",
    "\n",
    "# Close the browser window\n",
    "driver.quit()"
   ]
  }
 ],
 "metadata": {
  "kernelspec": {
   "display_name": "Python 3",
   "language": "python",
   "name": "python3"
  },
  "language_info": {
   "codemirror_mode": {
    "name": "ipython",
    "version": 3
   },
   "file_extension": ".py",
   "mimetype": "text/x-python",
   "name": "python",
   "nbconvert_exporter": "python",
   "pygments_lexer": "ipython3",
   "version": "3.11.6"
  }
 },
 "nbformat": 4,
 "nbformat_minor": 2
}
